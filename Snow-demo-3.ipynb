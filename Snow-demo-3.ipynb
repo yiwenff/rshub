{
 "cells": [
  {
   "cell_type": "markdown",
   "metadata": {},
   "source": [
    "# Brightness temperature and backscatter of a three-layer snow scenario (DMRT-BIC)"
   ]
  },
  {
   "cell_type": "code",
   "execution_count": 1,
   "metadata": {},
   "outputs": [],
   "source": [
    "import datetime\n",
    "import numpy as np\n",
    "!pip install https://rshub.zju.edu.cn/projects/rstool-0.0.tar.gz -q"
   ]
  },
  {
   "cell_type": "code",
   "execution_count": 2,
   "metadata": {},
   "outputs": [],
   "source": [
    "# Define user token\n",
    "token = '6uf0z22#$m!!0095xo**1vy1s*04k!'\n",
    "project_name = 'Snow Demo 3'\n",
    "task_name1 = 'Demo 1 Active t10'\n",
    "task_name2 = 'Demo 2 Passive t10'"
   ]
  },
  {
   "cell_type": "code",
   "execution_count": 3,
   "metadata": {},
   "outputs": [],
   "source": [
    "# ============== CHANGE YOUR INPUT PARAMETERS HERE ==============\n",
    "# ====== Parameters not define will be set to default values ======\n",
    "# Step 1: Define Scenario flag\n",
    "# 1: Bare soil\n",
    "# 2: Snow\n",
    "# 3: Vegetation covered soil\n",
    "scenario_flag = 2\n",
    "\n",
    "# Step 2: Define observation description\n",
    "# 1) Observation mode\n",
    "# 1: Active (Backscatter)\n",
    "# 2: Passive (Brightness temperature)\n",
    "output_var = 2\n",
    "\n",
    "# 2) Observation characteristics\n",
    "fGHz = [1.41, 6.925, 10.65]\n",
    "\n",
    "# angle=[30, 40, 50] # Incident Angle\n",
    "angle = np.arange(0,90,5)\n",
    "angle = angle.tolist()\n",
    "\n",
    "\n",
    "# Step 3: Define Algorithm flag\n",
    "# 1: DMRT-QMS; 2: DMRT-BIC\n",
    "algorithm1 = 1\n",
    "algorithm2 = 2\n",
    "\n",
    "# Step 4: Describe your scenario (Demo shows 3-layer snow)\n",
    "depth=[20,20,20] # [cm]\n",
    "rho=[0.3,0.3,0.3] # [g/m3]\n",
    "dia=[0.15,0.15,0.15] # Grain size diameter [mm]\n",
    "tau=[0.1,0.1,0.1] # stickness\n",
    "Tsnow=[260,260,260] # Snow temperature [K]\n",
    "\n",
    "Tg=270 # Ground Temperature [K]"
   ]
  },
  {
   "cell_type": "code",
   "execution_count": 4,
   "metadata": {},
   "outputs": [],
   "source": [
    "data1 = {\n",
    "    'scenario_flag': scenario_flag, \n",
    "    'output_var': output_var,'fGHz': fGHz,\n",
    "    'angle':angle,\n",
    "    'algorithm':algorithm1,\n",
    "    'depth': depth,'rho':rho,'dia':dia,'tau':tau,'Tsnow':Tsnow,'Tg':Tg,\n",
    "    'project_name':project_name,\n",
    "    'task_name':task_name1,\n",
    "    'token':'6uf0z22#$m!!0095xo**1vy1s*04k!',\n",
    "    'level_required':1\n",
    "}\n",
    "\n",
    "data2 = {\n",
    "    'scenario_flag': scenario_flag, \n",
    "    'output_var': output_var,'fGHz': fGHz,\n",
    "    'angle':angle,\n",
    "    'algorithm':algorithm2,\n",
    "    'depth': depth,'rho':rho,'dia':dia,'tau':tau,'Tsnow':Tsnow,'Tg':Tg,\n",
    "    'project_name':project_name,\n",
    "    'task_name':task_name2,\n",
    "    'token':'6uf0z22#$m!!0095xo**1vy1s*04k!',\n",
    "    'level_required':1\n",
    "}"
   ]
  },
  {
   "cell_type": "markdown",
   "metadata": {},
   "source": [
    "## Run models"
   ]
  },
  {
   "cell_type": "code",
   "execution_count": 5,
   "metadata": {},
   "outputs": [
    {
     "name": "stdout",
     "output_type": "stream",
     "text": [
      "{\"scenario_flag\": 2, \"output_var\": 2, \"fGHz\": [1.41, 6.925, 10.65], \"angle\": [0, 5, 10, 15, 20, 25, 30, 35, 40, 45, 50, 55, 60, 65, 70, 75, 80, 85], \"algorithm\": 1, \"depth\": [20, 20, 20], \"rho\": [0.3, 0.3, 0.3], \"dia\": [0.15, 0.15, 0.15], \"tau\": [0.1, 0.1, 0.1], \"Tsnow\": [260, 260, 260], \"Tg\": 270, \"project_name\": \"Snow Demo 3\", \"task_name\": \"Demo 1 Active t10\", \"token\": \"6uf0z22#$m!!0095xo**1vy1s*04k!\", \"level_required\": 1}\n"
     ]
    },
    {
     "name": "stdout",
     "output_type": "stream",
     "text": [
      "{\"scenario_flag\": 2, \"output_var\": 2, \"fGHz\": [1.41, 6.925, 10.65], \"angle\": [0, 5, 10, 15, 20, 25, 30, 35, 40, 45, 50, 55, 60, 65, 70, 75, 80, 85], \"algorithm\": 2, \"depth\": [20, 20, 20], \"rho\": [0.3, 0.3, 0.3], \"dia\": [0.15, 0.15, 0.15], \"tau\": [0.1, 0.1, 0.1], \"Tsnow\": [260, 260, 260], \"Tg\": 270, \"project_name\": \"Snow Demo 3\", \"task_name\": \"Demo 2 Passive t10\", \"token\": \"6uf0z22#$m!!0095xo**1vy1s*04k!\", \"level_required\": 1}\n"
     ]
    }
   ],
   "source": [
    "from rstool import submit_jobs\n",
    "result1=submit_jobs.run(data1)\n",
    "result2=submit_jobs.run(data2)"
   ]
  },
  {
   "cell_type": "code",
   "execution_count": 6,
   "metadata": {},
   "outputs": [],
   "source": [
    "# Store log information\n",
    "now = datetime.datetime.now()\n",
    "logname = 'log_' + now.strftime(\"%Y%m%d%H%M%D\") + '.txt'\n",
    "f = open('log.txt',\"a\")\n",
    "head_string = '======' + now.strftime(\"%Y%m%d%H%M%D\") + '======' + \"\\n\"\n",
    "f.write(head_string)\n",
    "f.write(f' project_name = {project_name} \\n')\n",
    "f.write(f' task_name = {task_name1} \\n')\n",
    "f.write(f' data = {data1} \\n')\n",
    "f.write(f' task_name = {task_name2} \\n')\n",
    "f.write(f' data = {data2} \\n')\n",
    "f.write('================================ \\n')\n",
    "f.close()"
   ]
  },
  {
   "cell_type": "code",
   "execution_count": 12,
   "metadata": {},
   "outputs": [
    {
     "name": "stdout",
     "output_type": "stream",
     "text": [
      "{\"model\":\"DMRT QMS Passive\",\"outpath\":\"iuvDMRYGWr5moltu8UL80ZvPO5ht85\",\"result\":\"Job submitted! Check Email for details.\"}\n",
      "\n"
     ]
    }
   ],
   "source": [
    "print(result2)"
   ]
  },
  {
   "cell_type": "markdown",
   "metadata": {},
   "source": [
    "# Post Process"
   ]
  },
  {
   "cell_type": "code",
   "execution_count": 6,
   "metadata": {},
   "outputs": [],
   "source": [
    "from rstool.load_file import load_mat_file"
   ]
  },
  {
   "cell_type": "code",
   "execution_count": 8,
   "metadata": {},
   "outputs": [
    {
     "name": "stdout",
     "output_type": "stream",
     "text": [
      "https://rshub.zju.edu.cn/projects/RHZpW5TKg5AY2ay309okfnj1NKsWBR/Result/Passive_fGHz6.925_ob_angle0.mat\n",
      "https://rshub.zju.edu.cn/projects/RHZpW5TKg5AY2ay309okfnj1NKsWBR/Result/Passive_fGHz6.925_ob_angle5.mat\n",
      "https://rshub.zju.edu.cn/projects/RHZpW5TKg5AY2ay309okfnj1NKsWBR/Result/Passive_fGHz6.925_ob_angle10.mat\n",
      "https://rshub.zju.edu.cn/projects/RHZpW5TKg5AY2ay309okfnj1NKsWBR/Result/Passive_fGHz6.925_ob_angle15.mat\n",
      "https://rshub.zju.edu.cn/projects/RHZpW5TKg5AY2ay309okfnj1NKsWBR/Result/Passive_fGHz6.925_ob_angle20.mat\n",
      "https://rshub.zju.edu.cn/projects/RHZpW5TKg5AY2ay309okfnj1NKsWBR/Result/Passive_fGHz6.925_ob_angle25.mat\n",
      "https://rshub.zju.edu.cn/projects/RHZpW5TKg5AY2ay309okfnj1NKsWBR/Result/Passive_fGHz6.925_ob_angle30.mat\n",
      "https://rshub.zju.edu.cn/projects/RHZpW5TKg5AY2ay309okfnj1NKsWBR/Result/Passive_fGHz6.925_ob_angle35.mat\n",
      "https://rshub.zju.edu.cn/projects/RHZpW5TKg5AY2ay309okfnj1NKsWBR/Result/Passive_fGHz6.925_ob_angle40.mat\n",
      "https://rshub.zju.edu.cn/projects/RHZpW5TKg5AY2ay309okfnj1NKsWBR/Result/Passive_fGHz6.925_ob_angle45.mat\n",
      "https://rshub.zju.edu.cn/projects/RHZpW5TKg5AY2ay309okfnj1NKsWBR/Result/Passive_fGHz6.925_ob_angle50.mat\n",
      "https://rshub.zju.edu.cn/projects/RHZpW5TKg5AY2ay309okfnj1NKsWBR/Result/Passive_fGHz6.925_ob_angle55.mat\n",
      "https://rshub.zju.edu.cn/projects/RHZpW5TKg5AY2ay309okfnj1NKsWBR/Result/Passive_fGHz6.925_ob_angle60.mat\n",
      "https://rshub.zju.edu.cn/projects/RHZpW5TKg5AY2ay309okfnj1NKsWBR/Result/Passive_fGHz6.925_ob_angle65.mat\n",
      "https://rshub.zju.edu.cn/projects/RHZpW5TKg5AY2ay309okfnj1NKsWBR/Result/Passive_fGHz6.925_ob_angle70.mat\n",
      "https://rshub.zju.edu.cn/projects/RHZpW5TKg5AY2ay309okfnj1NKsWBR/Result/Passive_fGHz6.925_ob_angle75.mat\n",
      "https://rshub.zju.edu.cn/projects/RHZpW5TKg5AY2ay309okfnj1NKsWBR/Result/Passive_fGHz6.925_ob_angle80.mat\n",
      "https://rshub.zju.edu.cn/projects/RHZpW5TKg5AY2ay309okfnj1NKsWBR/Result/Passive_fGHz6.925_ob_angle85.mat\n"
     ]
    }
   ],
   "source": [
    "# load mat file with project id, frequencies,variables to load\n",
    "mat_data2 = load_mat_file(token, project_name, task_name1,'6.925')\n",
    "\n",
    "TB_v_QMS=[]\n",
    "TB_h_QMS=[]\n",
    "for i,inc_ang in enumerate(angle):\n",
    "    mat_data_active = mat_data2.load_snow_TB(inc_ang)\n",
    "    # Read variables into python\n",
    "\n",
    "    TB_v_QMS.append(mat_data_active['Tb_v0'][:,0]) # vertical Tbs\n",
    "    TB_h_QMS.append(mat_data_active['Tb_h0'][:,0]) # horizontal Tbs\n",
    "theta_obs = angle # incident angle"
   ]
  },
  {
   "cell_type": "code",
   "execution_count": 9,
   "metadata": {},
   "outputs": [
    {
     "name": "stdout",
     "output_type": "stream",
     "text": [
      "https://rshub.zju.edu.cn/projects/RHZpW5TKg5AY2ay309okfnj1NKsWBR/Result/Passive_fGHz6.925_ob_angle0.mat\n",
      "https://rshub.zju.edu.cn/projects/RHZpW5TKg5AY2ay309okfnj1NKsWBR/Result/Passive_fGHz6.925_ob_angle5.mat\n",
      "https://rshub.zju.edu.cn/projects/RHZpW5TKg5AY2ay309okfnj1NKsWBR/Result/Passive_fGHz6.925_ob_angle10.mat\n",
      "https://rshub.zju.edu.cn/projects/RHZpW5TKg5AY2ay309okfnj1NKsWBR/Result/Passive_fGHz6.925_ob_angle15.mat\n",
      "https://rshub.zju.edu.cn/projects/RHZpW5TKg5AY2ay309okfnj1NKsWBR/Result/Passive_fGHz6.925_ob_angle20.mat\n",
      "https://rshub.zju.edu.cn/projects/RHZpW5TKg5AY2ay309okfnj1NKsWBR/Result/Passive_fGHz6.925_ob_angle25.mat\n",
      "https://rshub.zju.edu.cn/projects/RHZpW5TKg5AY2ay309okfnj1NKsWBR/Result/Passive_fGHz6.925_ob_angle30.mat\n",
      "https://rshub.zju.edu.cn/projects/RHZpW5TKg5AY2ay309okfnj1NKsWBR/Result/Passive_fGHz6.925_ob_angle35.mat\n",
      "https://rshub.zju.edu.cn/projects/RHZpW5TKg5AY2ay309okfnj1NKsWBR/Result/Passive_fGHz6.925_ob_angle40.mat\n",
      "https://rshub.zju.edu.cn/projects/RHZpW5TKg5AY2ay309okfnj1NKsWBR/Result/Passive_fGHz6.925_ob_angle45.mat\n",
      "https://rshub.zju.edu.cn/projects/RHZpW5TKg5AY2ay309okfnj1NKsWBR/Result/Passive_fGHz6.925_ob_angle50.mat\n",
      "https://rshub.zju.edu.cn/projects/RHZpW5TKg5AY2ay309okfnj1NKsWBR/Result/Passive_fGHz6.925_ob_angle55.mat\n",
      "https://rshub.zju.edu.cn/projects/RHZpW5TKg5AY2ay309okfnj1NKsWBR/Result/Passive_fGHz6.925_ob_angle60.mat\n",
      "https://rshub.zju.edu.cn/projects/RHZpW5TKg5AY2ay309okfnj1NKsWBR/Result/Passive_fGHz6.925_ob_angle65.mat\n",
      "https://rshub.zju.edu.cn/projects/RHZpW5TKg5AY2ay309okfnj1NKsWBR/Result/Passive_fGHz6.925_ob_angle70.mat\n",
      "https://rshub.zju.edu.cn/projects/RHZpW5TKg5AY2ay309okfnj1NKsWBR/Result/Passive_fGHz6.925_ob_angle75.mat\n",
      "https://rshub.zju.edu.cn/projects/RHZpW5TKg5AY2ay309okfnj1NKsWBR/Result/Passive_fGHz6.925_ob_angle80.mat\n",
      "https://rshub.zju.edu.cn/projects/RHZpW5TKg5AY2ay309okfnj1NKsWBR/Result/Passive_fGHz6.925_ob_angle85.mat\n"
     ]
    }
   ],
   "source": [
    "# load mat file with project id, frequencies,variables to load\n",
    "mat_data1 = load_mat_file(token, project_name, task_name2,'6.925')\n",
    "TB_v_BIC=[]\n",
    "TB_h_BIC=[]\n",
    "for i,inc_ang in enumerate(angle):\n",
    "    mat_data_active = mat_data2.load_snow_TB(inc_ang)\n",
    "    # Read variables into python\n",
    "\n",
    "    TB_v_BIC.append(mat_data_active['Tb_v0'][:,0]) # vertical Tbs\n",
    "    TB_h_BIC.append(mat_data_active['Tb_h0'][:,0]) # horizontal Tbs\n",
    "theta_obs = angle # incident angle"
   ]
  },
  {
   "cell_type": "code",
   "execution_count": 15,
   "metadata": {},
   "outputs": [
    {
     "data": {
      "text/plain": [
       "<matplotlib.legend.Legend at 0x2af73f6797c0>"
      ]
     },
     "execution_count": 15,
     "metadata": {},
     "output_type": "execute_result"
    },
    {
     "data": {
      "image/png": "[encoded data removed]",
      "text/plain": [
       "<Figure size 640x480 with 1 Axes>"
      ]
     },
     "metadata": {},
     "output_type": "display_data"
    }
   ],
   "source": [
    "import matplotlib.pyplot as plt\n",
    "\n",
    "# plot the data\n",
    "fig = plt.figure()\n",
    "ax = fig.add_subplot(1, 1, 1)\n",
    "ax.plot(theta_obs, TB_v_QMS, color='tab:blue')\n",
    "ax.plot(theta_obs, TB_h_QMS, color='tab:orange')\n",
    "ax.plot(theta_obs, TB_v_BIC, color='tab:blue',linestyle='--')\n",
    "ax.plot(theta_obs, TB_h_BIC, color='tab:orange',linestyle='--')\n",
    "ax.set(xlabel='Observation Angle $\\Theta(^\\circ)$', ylabel='Brightness Temperature $T_B(K)$')\n",
    "ax.legend(['QMS-V', 'QMS-H','BIC-V', 'BIC-H'])"
   ]
  },
  {
   "cell_type": "code",
   "execution_count": null,
   "metadata": {},
   "outputs": [],
   "source": []
  }
 ],
 "metadata": {
  "kernelspec": {
   "display_name": "Python 3 (ipykernel)",
   "language": "python",
   "name": "python3"
  },
  "language_info": {
   "codemirror_mode": {
    "name": "ipython",
    "version": 3
   },
   "file_extension": ".py",
   "mimetype": "text/x-python",
   "name": "python",
   "nbconvert_exporter": "python",
   "pygments_lexer": "ipython3",
   "version": "3.8.5"
  }
 },
 "nbformat": 4,
 "nbformat_minor": 2
}
