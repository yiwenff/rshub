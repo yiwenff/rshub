{
  "cells": [
    {
      "cell_type": "markdown",
      "metadata": {
        "colab_type": "text",
        "id": "view-in-github"
      },
      "source": [
        "<a href=\"https://colab.research.google.com/github/yiwenff/RShub_demo/blob/main/Run_Total_RTE_Veg_from_server.ipynb\" target=\"_parent\"><img src=\"https://colab.research.google.com/assets/colab-badge.svg\" alt=\"Open In Colab\"/></a>"
      ]
    },
    {
      "cell_type": "markdown",
      "metadata": {
        "id": "XL4kfhA6E-mP"
      },
      "source": [
        "# Layered Vegetation Brightness Temperature at Multi-frequencies"
      ]
    },
    {
      "cell_type": "code",
      "execution_count": 1,
      "metadata": {
        "id": "bd04Roi1E-mR"
      },
      "outputs": [],
      "source": [
        "import datetime\n",
        "!pip install https://rshub.zju.edu.cn/projects/rstool-0.0.tar.gz -q"
      ]
    },
    {
      "cell_type": "markdown",
      "metadata": {
        "id": "ZfrWENv0E-mS"
      },
      "source": [
        "## What is the distribution of Tb under different frequencies?"
      ]
    },
    {
      "cell_type": "code",
      "execution_count": 4,
      "metadata": {
        "id": "e4GvAS5FKGbl"
      },
      "outputs": [],
      "source": [
        "# Define user token\n",
        "token = '6uf0z22#$m!!0095xo**1vy1s*04k!'\n",
        "project_name = 'Vegetation Demo'\n",
        "task_name = 'Demo 1'"
      ]
    },
    {
      "cell_type": "code",
      "execution_count": 3,
      "metadata": {
        "colab": {
          "base_uri": "https://localhost:8080/"
        },
        "id": "wfHiUzAEE-mS",
        "outputId": "974ce8c8-fcff-46df-99c8-536b5f639228"
      },
      "outputs": [
        {
          "name": "stdout",
          "output_type": "stream",
          "text": [
            "[[1, 0.37, 7.85, 0.15, 0, 0, 0, 8, 0.24], [1, 0.444, 0.555, 0.0112, 35, 90, 8, 8, 0.24]]\n"
          ]
        }
      ],
      "source": [
        "# ============== CHANGE YOUR INPUT PARAMETERS HERE ==============\n",
        "# ====== Parameters not define will be set to default values ======\n",
        "# Step 1: Define Scenario flag\n",
        "# 1: Bare soil\n",
        "# 2: Snow\n",
        "# 3: Vegetation covered soil\n",
        "scenario_flag = 3\n",
        "\n",
        "# Step 2: Define observation description\n",
        "# 1) Observation mode\n",
        "# 1: Active (Backscatter)\n",
        "# 2: Passive (Brightness temperature)\n",
        "output_var = 2\n",
        "\n",
        "# 2) Observation characteristics\n",
        "fGHz = [1.41,6.925]\n",
        "\n",
        "# Step 3: Define Algorithm flag\n",
        "# 1: RT\n",
        "algorithm = 1\n",
        "\n",
        "# Step 4: Describe your scenario\n",
        "scatters=[[]]\n",
        "# Primary Branch\n",
        "types = 1\n",
        "VM = 0.37\n",
        "L = 7.85\n",
        "D = 0.15\n",
        "beta1 = 0\n",
        "beta2 = 0\n",
        "disbot = 0\n",
        "distop = 8\n",
        "NA = 0.24\n",
        "scatters[0]=[types, VM, L, D, beta1, beta2, disbot, distop, NA]\n",
        "\n",
        "# Leaf\n",
        "types = 1\n",
        "VM = 0.444\n",
        "L = 0.555\n",
        "D = 0.0112\n",
        "beta1 = 35\n",
        "beta2 = 90\n",
        "disbot = 8\n",
        "distop = 8\n",
        "NA = 0.24\n",
        "scatters.append([types, VM, L, D, beta1, beta2, disbot, distop, NA])\n",
        "print(scatters)\n"
      ]
    },
    {
      "cell_type": "code",
      "execution_count": 5,
      "metadata": {
        "id": "5pi_g5hAE-mS"
      },
      "outputs": [],
      "source": [
        "data = {\n",
        "    'scenario_flag': scenario_flag,\n",
        "    'output_var': output_var,'fGHz': fGHz,\n",
        "    'algorithm':algorithm,\n",
        "    'scatters': scatters,'core_num':2,\n",
        "    'project_name':project_name,\n",
        "    'task_name':task_name,\n",
        "    'token': token,\n",
        "    'level_required':1\n",
        "}"
      ]
    },
    {
      "cell_type": "markdown",
      "metadata": {
        "id": "FpyY814FE-mT"
      },
      "source": [
        "## Run models"
      ]
    },
    {
      "cell_type": "code",
      "execution_count": 6,
      "metadata": {
        "colab": {
          "base_uri": "https://localhost:8080/",
          "height": 90
        },
        "id": "dfCg0pdFE-mT",
        "outputId": "207143cf-7ec8-4223-937f-f915c8afe93e"
      },
      "outputs": [
        {
          "name": "stdout",
          "output_type": "stream",
          "text": [
            "{\"scenario_flag\": 3, \"output_var\": 2, \"fGHz\": [1.41, 6.925], \"algorithm\": 1, \"scatters\": [[1, 0.37, 7.85, 0.15, 0, 0, 0, 8, 0.24], [1, 0.444, 0.555, 0.0112, 35, 90, 8, 8, 0.24]], \"core_num\": 2, \"project_name\": \"Vegetation Demo\", \"task_name\": \"Demo 1\", \"token\": \"6uf0z22#$m!!0095xo**1vy1s*04k!\", \"level_required\": 1}\n"
          ]
        }
      ],
      "source": [
        "from rstool import submit_jobs\n",
        "result=submit_jobs.run(data)"
      ]
    },
    {
      "cell_type": "code",
      "execution_count": 21,
      "metadata": {
        "id": "qzXvymrFLP9S"
      },
      "outputs": [
        {
          "name": "stdout",
          "output_type": "stream",
          "text": [
            "{\"model\":\"Vegetation Passive Radiative Transfer (VPRT) Model\",\"outpath\":\"cVWLZu6N76yz8fVWUahX7gO74XZqqV\",\"result\":\"Job submitted! Check Email for details.\"}\n",
            "\n"
          ]
        }
      ],
      "source": [
        "print(result)"
      ]
    },
    {
      "cell_type": "code",
      "execution_count": 19,
      "metadata": {
        "id": "l1ZWw6olE-mT"
      },
      "outputs": [],
      "source": [
        "# Store log information\n",
        "now = datetime.datetime.now()\n",
        "logname = 'log_' + now.strftime(\"%Y%m%d%H%M%D\") + '.txt'\n",
        "f = open('log.txt',\"a\")\n",
        "head_string = '======' + now.strftime(\"%Y%m%d%H%M%D\") + '======' + \"\\n\"\n",
        "f.write(head_string)\n",
        "f.write(f' project_name = {project_name} \\n')\n",
        "f.write(f' task_name = {task_name} \\n')\n",
        "f.write(f' data = {data} \\n')\n",
        "f.write('================================ \\n')\n",
        "f.close()"
      ]
    },
    {
      "cell_type": "markdown",
      "metadata": {
        "id": "dDKWEsc7E-mT"
      },
      "source": [
        "## Check status of code"
      ]
    },
    {
      "cell_type": "code",
      "execution_count": 22,
      "metadata": {
        "id": "3lA7MnzXE-mT",
        "outputId": "84af2b70-9bd5-4a47-db10-9291b55b40d5"
      },
      "outputs": [
        {
          "name": "stdout",
          "output_type": "stream",
          "text": [
            "job 1 out of 4: C\n",
            "C\n"
          ]
        },
        {
          "data": {
            "text/plain": [
              "'Request failed with status code 500'"
            ]
          },
          "execution_count": 22,
          "metadata": {},
          "output_type": "execute_result"
        }
      ],
      "source": [
        "submit_jobs.check_state('cVWLZu6N76yz8fVWUahX7gO74XZqqV')"
      ]
    },
    {
      "cell_type": "markdown",
      "metadata": {
        "id": "XuFz3psuE-mT"
      },
      "source": [
        "# Post Process"
      ]
    },
    {
      "cell_type": "code",
      "execution_count": 23,
      "metadata": {
        "id": "cerjgbFQE-mU"
      },
      "outputs": [],
      "source": [
        "from rstool.load_file import load_mat_file"
      ]
    },
    {
      "cell_type": "code",
      "execution_count": 24,
      "metadata": {
        "colab": {
          "base_uri": "https://localhost:8080/"
        },
        "id": "Av82rtKQE-mU",
        "outputId": "fc73e732-379c-4a00-c867-8a36e9391313"
      },
      "outputs": [
        {
          "name": "stdout",
          "output_type": "stream",
          "text": [
            "https://rshub.zju.edu.cn/projects/cVWLZu6N76yz8fVWUahX7gO74XZqqV/TB/TB_fGHz1.41.mat\n"
          ]
        }
      ],
      "source": [
        "mat_data1 = load_mat_file(token, project_name, task_name,'1.41')\n",
        "mat_data_multi = mat_data1.load_veg_TB()\n",
        "# Read variables into python\n",
        "TU_all = mat_data_multi['TU_all'] # Tbs\n",
        "theta_obs = mat_data_multi['theta_obs'] # theta"
      ]
    },
    {
      "cell_type": "code",
      "execution_count": 25,
      "metadata": {
        "colab": {
          "base_uri": "https://localhost:8080/"
        },
        "id": "UYsUIedXLZRh",
        "outputId": "d062dac5-110d-4549-fe50-ae13e242aa85"
      },
      "outputs": [
        {
          "name": "stdout",
          "output_type": "stream",
          "text": [
            "https://rshub.zju.edu.cn/projects/cVWLZu6N76yz8fVWUahX7gO74XZqqV/TB/TB_fGHz6.925.mat\n"
          ]
        }
      ],
      "source": [
        "mat_data2 = load_mat_file(token, project_name, task_name,'6.925')\n",
        "mat_data_multi2 = mat_data2.load_veg_TB()\n",
        "# Read variables into python\n",
        "TU_all2 = mat_data_multi2['TU_all'] # Tbs\n",
        "theta_obs2 = mat_data_multi2['theta_obs'] # theta"
      ]
    },
    {
      "cell_type": "code",
      "execution_count": 26,
      "metadata": {
        "colab": {
          "base_uri": "https://localhost:8080/",
          "height": 470
        },
        "id": "6zk7uQRUE-mU",
        "outputId": "33601c60-bddb-40a3-eac6-a93e96efc176"
      },
      "outputs": [
        {
          "data": {
            "text/plain": [
              "<matplotlib.legend.Legend at 0x2afd8f1674c0>"
            ]
          },
          "execution_count": 26,
          "metadata": {},
          "output_type": "execute_result"
        },
        {
          "data": {
            "image/png": "[encoded data removed]",
            "text/plain": [
              "<Figure size 640x480 with 1 Axes>"
            ]
          },
          "metadata": {},
          "output_type": "display_data"
        }
      ],
      "source": [
        "import matplotlib.pyplot as plt\n",
        "\n",
        "# plot the data\n",
        "fig = plt.figure()\n",
        "ax = fig.add_subplot(1, 1, 1)\n",
        "ax.plot(theta_obs[0,:], TU_all[0,:], color='tab:blue')\n",
        "ax.plot(theta_obs[0,:], TU_all[1,:], color='tab:orange')\n",
        "ax.plot(theta_obs2[0,:], TU_all2[0,:], color='tab:blue',linestyle='--')\n",
        "ax.plot(theta_obs2[0,:], TU_all2[1,:], color='tab:orange',linestyle='--')\n",
        "ax.set(xlabel='Observation Angle $\\Theta(^\\circ)$', ylabel='Brightness Temperature $T_B(K)$')\n",
        "ax.legend(['1.41 GHz V', '1.41 GHz H', '6.925 GHz V', '6.925 GHz H'])"
      ]
    },
    {
      "cell_type": "code",
      "execution_count": null,
      "metadata": {
        "id": "ZyXmea2ME-mU"
      },
      "outputs": [],
      "source": []
    }
  ],
  "metadata": {
    "colab": {
      "include_colab_link": true,
      "provenance": []
    },
    "kernelspec": {
      "display_name": "Python 3 (ipykernel)",
      "language": "python",
      "name": "python3"
    },
    "language_info": {
      "codemirror_mode": {
        "name": "ipython",
        "version": 3
      },
      "file_extension": ".py",
      "mimetype": "text/x-python",
      "name": "python",
      "nbconvert_exporter": "python",
      "pygments_lexer": "ipython3",
      "version": "3.8.5"
    }
  },
  "nbformat": 4,
  "nbformat_minor": 0
}
