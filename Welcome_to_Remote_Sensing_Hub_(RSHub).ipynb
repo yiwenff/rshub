{
  "cells": [
    {
      "cell_type": "markdown",
      "metadata": {
        "id": "view-in-github",
        "colab_type": "text"
      },
      "source": [
        "<a href=\"https://colab.research.google.com/github/yiwenff/RShub_demo/blob/main/Welcome_to_Remote_Sensing_Hub_(RSHub).ipynb\" target=\"_parent\"><img src=\"https://colab.research.google.com/assets/colab-badge.svg\" alt=\"Open In Colab\"/></a>"
      ]
    },
    {
      "cell_type": "markdown",
      "metadata": {
        "id": "Wf5KrEb6vrkR"
      },
      "source": [
        "<div class=\"markdown-google-sans\">\n",
        "  <h1>Welcome to RSHub!</h1>\n",
        "</div>\n",
        "<p> Remote Sensing Hub (RSHub) is a shared cloud computing platform for the remote sensing community to compute microwave scattering properties based on microwave electromagnetic scattering mechanisms.\n",
        "</p>\n",
        "<div class=\"markdown-google-sans\">\n",
        "  <h2>Getting Started</h2>\n",
        "  \n",
        "  <strong>Steps to run your code </strong>\n",
        "    <ol>\n",
        "      <li>Go to <a href=\"https://rshub.zju.edu.cn/Login\">RShub wesite</a> to register your account and get an access token.</li>\n",
        "      <li>Navigate to your scenario and check parameter lists</li>\n",
        "      <li>Explore scenario demos for a quick start</li>\n",
        "      </ol>\n",
        "  <strong>Explore scenario demos</strong>\n",
        "    <ul>\n",
        "      <li><a href=\"https://colab.research.google.com/github/google-gemini/cookbook/blob/main/examples/Market_a_Jet_Backpack.ipynb\">A Simple Soil Scenario </a></li>\n",
        "      <li><a href=\"https://colab.research.google.com/github/google-gemini/cookbook/blob/main/quickstarts/Audio.ipynb\">Multi-layer Vegetation Scenario</a></li>\n",
        "      <li><a href=\"https://colab.research.google.com/github/google-gemini/cookbook/blob/main/quickstarts/System_instructions.ipynb\">Multi-layer Snow Scenario</a></li>\n",
        "    </ul>\n",
        "  </p>\n",
        "</div>\n"
      ]
    }
  ],
  "metadata": {
    "colab": {
      "name": "Welcome to Remote Sensing Hub (RSHub)",
      "toc_visible": true,
      "provenance": [],
      "include_colab_link": true
    },
    "kernelspec": {
      "display_name": "Python 3",
      "name": "python3"
    }
  },
  "nbformat": 4,
  "nbformat_minor": 0
}